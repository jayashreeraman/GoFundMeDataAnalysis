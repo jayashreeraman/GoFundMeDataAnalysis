{
 "cells": [
  {
   "cell_type": "code",
   "execution_count": 1,
   "metadata": {},
   "outputs": [],
   "source": [
    "import pandas as pd\n",
    "import numpy as np\n",
    "\n",
    "\n",
    "from sklearn import metrics\n",
    "from sklearn.feature_extraction.text import CountVectorizer\n",
    "from sklearn.decomposition import TruncatedSVD\n",
    "from sklearn.ensemble import RandomForestClassifier\n",
    "from sklearn.multiclass import OneVsRestClassifier\n",
    "from sklearn.neighbors import KNeighborsClassifier\n",
    "from sklearn.metrics import confusion_matrix, classification_report\n",
    "from sklearn.model_selection import train_test_split, GridSearchCV\n",
    "from sklearn.pipeline import make_pipeline\n",
    "from sklearn.svm import LinearSVC\n",
    "\n",
    "import matplotlib.pyplot as plt\n",
    "import seaborn as sns\n",
    "\n",
    "import re"
   ]
  },
  {
   "cell_type": "code",
   "execution_count": 37,
   "metadata": {},
   "outputs": [],
   "source": [
    "gfm_data = pd.read_excel('GoFundMe.xlsx')"
   ]
  },
  {
   "cell_type": "code",
   "execution_count": 38,
   "metadata": {},
   "outputs": [
    {
     "data": {
      "text/html": [
       "<div>\n",
       "<style scoped>\n",
       "    .dataframe tbody tr th:only-of-type {\n",
       "        vertical-align: middle;\n",
       "    }\n",
       "\n",
       "    .dataframe tbody tr th {\n",
       "        vertical-align: top;\n",
       "    }\n",
       "\n",
       "    .dataframe thead th {\n",
       "        text-align: right;\n",
       "    }\n",
       "</style>\n",
       "<table border=\"1\" class=\"dataframe\">\n",
       "  <thead>\n",
       "    <tr style=\"text-align: right;\">\n",
       "      <th></th>\n",
       "      <th>Url</th>\n",
       "      <th>Category</th>\n",
       "      <th>Position</th>\n",
       "      <th>Title</th>\n",
       "      <th>Location</th>\n",
       "      <th>Amount_Raised</th>\n",
       "      <th>Goal</th>\n",
       "      <th>Number_of_Donators</th>\n",
       "      <th>Length_of_Fundraising</th>\n",
       "      <th>FB_Shares</th>\n",
       "      <th>GFM_hearts</th>\n",
       "      <th>Text</th>\n",
       "      <th>Latitude</th>\n",
       "      <th>Longitude</th>\n",
       "      <th>FB_Shares_Format</th>\n",
       "      <th>GFM_hearts_Format</th>\n",
       "    </tr>\n",
       "  </thead>\n",
       "  <tbody>\n",
       "    <tr>\n",
       "      <th>0</th>\n",
       "      <td>https://www.gofundme.com/3ctqm-medical-bills-f...</td>\n",
       "      <td>Medical</td>\n",
       "      <td>0.0</td>\n",
       "      <td>92 Yr old Man Brutally Attacked.</td>\n",
       "      <td>LOS ANGELES, CA</td>\n",
       "      <td>327345.0</td>\n",
       "      <td>15000.0</td>\n",
       "      <td>12167</td>\n",
       "      <td>30.0</td>\n",
       "      <td>26k</td>\n",
       "      <td>12k</td>\n",
       "      <td>Rodolfo Rodriguez needs your help today! 92 Yr...</td>\n",
       "      <td>34.052234</td>\n",
       "      <td>-118.243685</td>\n",
       "      <td>26000</td>\n",
       "      <td>12000</td>\n",
       "    </tr>\n",
       "    <tr>\n",
       "      <th>1</th>\n",
       "      <td>https://www.gofundme.com/olivia-stoy-bone-marr...</td>\n",
       "      <td>Medical</td>\n",
       "      <td>0.0</td>\n",
       "      <td>Olivia Stoy:Transplant &amp; Liv it up!</td>\n",
       "      <td>ASHLEY, IN</td>\n",
       "      <td>316261.0</td>\n",
       "      <td>1000000.0</td>\n",
       "      <td>5598</td>\n",
       "      <td>90.0</td>\n",
       "      <td>12k</td>\n",
       "      <td>5.7k</td>\n",
       "      <td>Thomas Stoy needs your help today! Olivia Stoy...</td>\n",
       "      <td>41.527273</td>\n",
       "      <td>-85.065523</td>\n",
       "      <td>12000</td>\n",
       "      <td>5700</td>\n",
       "    </tr>\n",
       "    <tr>\n",
       "      <th>2</th>\n",
       "      <td>https://www.gofundme.com/autologous-Tcell-Tran...</td>\n",
       "      <td>Medical</td>\n",
       "      <td>1.0</td>\n",
       "      <td>AUTOLOGOUS T CELL TRANSPLANT</td>\n",
       "      <td>STATEN ISLAND, NY</td>\n",
       "      <td>241125.0</td>\n",
       "      <td>250000.0</td>\n",
       "      <td>841</td>\n",
       "      <td>60.0</td>\n",
       "      <td>1.8k</td>\n",
       "      <td>836</td>\n",
       "      <td>Philip Defonte needs your help today! AUTOLOGO...</td>\n",
       "      <td>40.579532</td>\n",
       "      <td>-74.150201</td>\n",
       "      <td>1800</td>\n",
       "      <td>836</td>\n",
       "    </tr>\n",
       "    <tr>\n",
       "      <th>3</th>\n",
       "      <td>https://www.gofundme.com/a-chance-of-rebirth</td>\n",
       "      <td>Medical</td>\n",
       "      <td>1.0</td>\n",
       "      <td>A chance of rebirth</td>\n",
       "      <td>DUBLIN, CA</td>\n",
       "      <td>237424.0</td>\n",
       "      <td>225000.0</td>\n",
       "      <td>4708</td>\n",
       "      <td>30.0</td>\n",
       "      <td>9.7k</td>\n",
       "      <td>4.7k</td>\n",
       "      <td>Sriram Kanniah needs your help today! A chance...</td>\n",
       "      <td>37.702152</td>\n",
       "      <td>-121.935792</td>\n",
       "      <td>9700</td>\n",
       "      <td>4700</td>\n",
       "    </tr>\n",
       "    <tr>\n",
       "      <th>4</th>\n",
       "      <td>https://www.gofundme.com/teamclaire</td>\n",
       "      <td>Medical</td>\n",
       "      <td>1.0</td>\n",
       "      <td>Claire Wineland Needs Our Help</td>\n",
       "      <td>GARDEN GROVE, CA</td>\n",
       "      <td>236590.0</td>\n",
       "      <td>225000.0</td>\n",
       "      <td>8393</td>\n",
       "      <td>60.0</td>\n",
       "      <td>6.4k</td>\n",
       "      <td>8.9k</td>\n",
       "      <td>Melissa Yeager needs your help today! Claire W...</td>\n",
       "      <td>33.774269</td>\n",
       "      <td>-117.937995</td>\n",
       "      <td>6400</td>\n",
       "      <td>8900</td>\n",
       "    </tr>\n",
       "  </tbody>\n",
       "</table>\n",
       "</div>"
      ],
      "text/plain": [
       "                                                 Url Category  Position  \\\n",
       "0  https://www.gofundme.com/3ctqm-medical-bills-f...  Medical       0.0   \n",
       "1  https://www.gofundme.com/olivia-stoy-bone-marr...  Medical       0.0   \n",
       "2  https://www.gofundme.com/autologous-Tcell-Tran...  Medical       1.0   \n",
       "3       https://www.gofundme.com/a-chance-of-rebirth  Medical       1.0   \n",
       "4                https://www.gofundme.com/teamclaire  Medical       1.0   \n",
       "\n",
       "                                 Title           Location  Amount_Raised  \\\n",
       "0     92 Yr old Man Brutally Attacked.    LOS ANGELES, CA       327345.0   \n",
       "1  Olivia Stoy:Transplant & Liv it up!         ASHLEY, IN       316261.0   \n",
       "2         AUTOLOGOUS T CELL TRANSPLANT  STATEN ISLAND, NY       241125.0   \n",
       "3                  A chance of rebirth         DUBLIN, CA       237424.0   \n",
       "4       Claire Wineland Needs Our Help   GARDEN GROVE, CA       236590.0   \n",
       "\n",
       "        Goal Number_of_Donators  Length_of_Fundraising FB_Shares GFM_hearts  \\\n",
       "0    15000.0              12167                   30.0       26k        12k   \n",
       "1  1000000.0               5598                   90.0       12k       5.7k   \n",
       "2   250000.0                841                   60.0      1.8k        836   \n",
       "3   225000.0               4708                   30.0      9.7k       4.7k   \n",
       "4   225000.0               8393                   60.0      6.4k       8.9k   \n",
       "\n",
       "                                                Text   Latitude   Longitude  \\\n",
       "0  Rodolfo Rodriguez needs your help today! 92 Yr...  34.052234 -118.243685   \n",
       "1  Thomas Stoy needs your help today! Olivia Stoy...  41.527273  -85.065523   \n",
       "2  Philip Defonte needs your help today! AUTOLOGO...  40.579532  -74.150201   \n",
       "3  Sriram Kanniah needs your help today! A chance...  37.702152 -121.935792   \n",
       "4  Melissa Yeager needs your help today! Claire W...  33.774269 -117.937995   \n",
       "\n",
       "   FB_Shares_Format  GFM_hearts_Format  \n",
       "0             26000              12000  \n",
       "1             12000               5700  \n",
       "2              1800                836  \n",
       "3              9700               4700  \n",
       "4              6400               8900  "
      ]
     },
     "execution_count": 38,
     "metadata": {},
     "output_type": "execute_result"
    }
   ],
   "source": [
    "gfm_data.head()"
   ]
  },
  {
   "cell_type": "code",
   "execution_count": 39,
   "metadata": {},
   "outputs": [],
   "source": [
    "# gfm_data.Position.value_counts()"
   ]
  },
  {
   "cell_type": "code",
   "execution_count": 40,
   "metadata": {},
   "outputs": [],
   "source": [
    "# gfm_data.Length_of_Fundraising.value_counts()"
   ]
  },
  {
   "cell_type": "code",
   "execution_count": 41,
   "metadata": {},
   "outputs": [],
   "source": [
    "# a['Name'] = np.where(df['Set']=='Z', 'green', 'red')\n",
    "# x =gfm_data['Length_of_Fundraising'].str.replace('\\a+', '')\n",
    "# x"
   ]
  },
  {
   "cell_type": "code",
   "execution_count": 42,
   "metadata": {},
   "outputs": [],
   "source": [
    "gfm_data['GoalAchieved'] = np.where(gfm_data['Amount_Raised'] >= gfm_data['Goal'], 'Yes','No')\n",
    "# gfm_data['GoalAchieved'] = gfm_data['GoalAchieved'].astype('bool')"
   ]
  },
  {
   "cell_type": "markdown",
   "metadata": {},
   "source": [
    "### Let's get an idea of the number of campaigns that met their goal or didn't"
   ]
  },
  {
   "cell_type": "code",
   "execution_count": 43,
   "metadata": {},
   "outputs": [
    {
     "data": {
      "text/html": [
       "<div>\n",
       "<style scoped>\n",
       "    .dataframe tbody tr th:only-of-type {\n",
       "        vertical-align: middle;\n",
       "    }\n",
       "\n",
       "    .dataframe tbody tr th {\n",
       "        vertical-align: top;\n",
       "    }\n",
       "\n",
       "    .dataframe thead th {\n",
       "        text-align: right;\n",
       "    }\n",
       "</style>\n",
       "<table border=\"1\" class=\"dataframe\">\n",
       "  <thead>\n",
       "    <tr style=\"text-align: right;\">\n",
       "      <th></th>\n",
       "      <th>GoalAchieved</th>\n",
       "    </tr>\n",
       "  </thead>\n",
       "  <tbody>\n",
       "    <tr>\n",
       "      <th>No</th>\n",
       "      <td>786</td>\n",
       "    </tr>\n",
       "    <tr>\n",
       "      <th>Yes</th>\n",
       "      <td>456</td>\n",
       "    </tr>\n",
       "  </tbody>\n",
       "</table>\n",
       "</div>"
      ],
      "text/plain": [
       "     GoalAchieved\n",
       "No            786\n",
       "Yes           456"
      ]
     },
     "execution_count": 43,
     "metadata": {},
     "output_type": "execute_result"
    }
   ],
   "source": [
    "goalAchieved = pd.DataFrame((gfm_data['GoalAchieved']).value_counts())\n",
    "goalAchieved"
   ]
  },
  {
   "cell_type": "code",
   "execution_count": 44,
   "metadata": {},
   "outputs": [
    {
     "data": {
      "image/png": "[encoded data removed]",
      "text/plain": [
       "<Figure size 720x360 with 1 Axes>"
      ]
     },
     "metadata": {
      "needs_background": "light"
     },
     "output_type": "display_data"
    }
   ],
   "source": [
    "ax = goalAchieved[['GoalAchieved']].plot(kind='bar', title =\"V comp\", figsize=(10, 5), legend=True, fontsize=12, color='maroon')\n",
    "ax.set_xlabel(\"Goal Achieved\", fontsize=12)\n",
    "ax.set_ylabel(\"Number of Campaigns\", fontsize=12)\n",
    "plt.show()"
   ]
  },
  {
   "cell_type": "markdown",
   "metadata": {},
   "source": [
    "### Thus, we see that we have 456 successful campaigns, and 786 unsuccessful campaigns in our data"
   ]
  },
  {
   "cell_type": "markdown",
   "metadata": {},
   "source": [
    "## Plotting the Correlations in the data frame\n",
    "\n",
    "Code from: https://seaborn.pydata.org/examples/many_pairwise_correlations.html"
   ]
  },
  {
   "cell_type": "code",
   "execution_count": 45,
   "metadata": {},
   "outputs": [
    {
     "data": {
      "text/html": [
       "<div>\n",
       "<style scoped>\n",
       "    .dataframe tbody tr th:only-of-type {\n",
       "        vertical-align: middle;\n",
       "    }\n",
       "\n",
       "    .dataframe tbody tr th {\n",
       "        vertical-align: top;\n",
       "    }\n",
       "\n",
       "    .dataframe thead th {\n",
       "        text-align: right;\n",
       "    }\n",
       "</style>\n",
       "<table border=\"1\" class=\"dataframe\">\n",
       "  <thead>\n",
       "    <tr style=\"text-align: right;\">\n",
       "      <th></th>\n",
       "      <th>Position</th>\n",
       "      <th>Amount_Raised</th>\n",
       "      <th>Goal</th>\n",
       "      <th>Length_of_Fundraising</th>\n",
       "      <th>Latitude</th>\n",
       "      <th>Longitude</th>\n",
       "      <th>FB_Shares_Format</th>\n",
       "      <th>GFM_hearts_Format</th>\n",
       "    </tr>\n",
       "  </thead>\n",
       "  <tbody>\n",
       "    <tr>\n",
       "      <th>Position</th>\n",
       "      <td>1.000000</td>\n",
       "      <td>-0.013714</td>\n",
       "      <td>-0.012950</td>\n",
       "      <td>0.051280</td>\n",
       "      <td>-0.022002</td>\n",
       "      <td>-0.036323</td>\n",
       "      <td>-0.012284</td>\n",
       "      <td>-0.011308</td>\n",
       "    </tr>\n",
       "    <tr>\n",
       "      <th>Amount_Raised</th>\n",
       "      <td>-0.013714</td>\n",
       "      <td>1.000000</td>\n",
       "      <td>0.634603</td>\n",
       "      <td>-0.044092</td>\n",
       "      <td>-0.059306</td>\n",
       "      <td>0.017689</td>\n",
       "      <td>0.729750</td>\n",
       "      <td>0.905153</td>\n",
       "    </tr>\n",
       "    <tr>\n",
       "      <th>Goal</th>\n",
       "      <td>-0.012950</td>\n",
       "      <td>0.634603</td>\n",
       "      <td>1.000000</td>\n",
       "      <td>0.001579</td>\n",
       "      <td>-0.068443</td>\n",
       "      <td>-0.028549</td>\n",
       "      <td>0.462030</td>\n",
       "      <td>0.537796</td>\n",
       "    </tr>\n",
       "    <tr>\n",
       "      <th>Length_of_Fundraising</th>\n",
       "      <td>0.051280</td>\n",
       "      <td>-0.044092</td>\n",
       "      <td>0.001579</td>\n",
       "      <td>1.000000</td>\n",
       "      <td>-0.033316</td>\n",
       "      <td>0.024910</td>\n",
       "      <td>-0.078651</td>\n",
       "      <td>-0.039694</td>\n",
       "    </tr>\n",
       "    <tr>\n",
       "      <th>Latitude</th>\n",
       "      <td>-0.022002</td>\n",
       "      <td>-0.059306</td>\n",
       "      <td>-0.068443</td>\n",
       "      <td>-0.033316</td>\n",
       "      <td>1.000000</td>\n",
       "      <td>0.173531</td>\n",
       "      <td>-0.029403</td>\n",
       "      <td>-0.031933</td>\n",
       "    </tr>\n",
       "    <tr>\n",
       "      <th>Longitude</th>\n",
       "      <td>-0.036323</td>\n",
       "      <td>0.017689</td>\n",
       "      <td>-0.028549</td>\n",
       "      <td>0.024910</td>\n",
       "      <td>0.173531</td>\n",
       "      <td>1.000000</td>\n",
       "      <td>0.025169</td>\n",
       "      <td>0.019724</td>\n",
       "    </tr>\n",
       "    <tr>\n",
       "      <th>FB_Shares_Format</th>\n",
       "      <td>-0.012284</td>\n",
       "      <td>0.729750</td>\n",
       "      <td>0.462030</td>\n",
       "      <td>-0.078651</td>\n",
       "      <td>-0.029403</td>\n",
       "      <td>0.025169</td>\n",
       "      <td>1.000000</td>\n",
       "      <td>0.756389</td>\n",
       "    </tr>\n",
       "    <tr>\n",
       "      <th>GFM_hearts_Format</th>\n",
       "      <td>-0.011308</td>\n",
       "      <td>0.905153</td>\n",
       "      <td>0.537796</td>\n",
       "      <td>-0.039694</td>\n",
       "      <td>-0.031933</td>\n",
       "      <td>0.019724</td>\n",
       "      <td>0.756389</td>\n",
       "      <td>1.000000</td>\n",
       "    </tr>\n",
       "  </tbody>\n",
       "</table>\n",
       "</div>"
      ],
      "text/plain": [
       "                       Position  Amount_Raised      Goal  \\\n",
       "Position               1.000000      -0.013714 -0.012950   \n",
       "Amount_Raised         -0.013714       1.000000  0.634603   \n",
       "Goal                  -0.012950       0.634603  1.000000   \n",
       "Length_of_Fundraising  0.051280      -0.044092  0.001579   \n",
       "Latitude              -0.022002      -0.059306 -0.068443   \n",
       "Longitude             -0.036323       0.017689 -0.028549   \n",
       "FB_Shares_Format      -0.012284       0.729750  0.462030   \n",
       "GFM_hearts_Format     -0.011308       0.905153  0.537796   \n",
       "\n",
       "                       Length_of_Fundraising  Latitude  Longitude  \\\n",
       "Position                            0.051280 -0.022002  -0.036323   \n",
       "Amount_Raised                      -0.044092 -0.059306   0.017689   \n",
       "Goal                                0.001579 -0.068443  -0.028549   \n",
       "Length_of_Fundraising               1.000000 -0.033316   0.024910   \n",
       "Latitude                           -0.033316  1.000000   0.173531   \n",
       "Longitude                           0.024910  0.173531   1.000000   \n",
       "FB_Shares_Format                   -0.078651 -0.029403   0.025169   \n",
       "GFM_hearts_Format                  -0.039694 -0.031933   0.019724   \n",
       "\n",
       "                       FB_Shares_Format  GFM_hearts_Format  \n",
       "Position                      -0.012284          -0.011308  \n",
       "Amount_Raised                  0.729750           0.905153  \n",
       "Goal                           0.462030           0.537796  \n",
       "Length_of_Fundraising         -0.078651          -0.039694  \n",
       "Latitude                      -0.029403          -0.031933  \n",
       "Longitude                      0.025169           0.019724  \n",
       "FB_Shares_Format               1.000000           0.756389  \n",
       "GFM_hearts_Format              0.756389           1.000000  "
      ]
     },
     "execution_count": 45,
     "metadata": {},
     "output_type": "execute_result"
    }
   ],
   "source": [
    "corr = gfm_data.corr()\n",
    "corr"
   ]
  },
  {
   "cell_type": "code",
   "execution_count": 46,
   "metadata": {},
   "outputs": [],
   "source": [
    "# Generate a mask for the upper triangle\n",
    "mask = np.zeros_like(corr, dtype=np.bool)\n",
    "mask[np.triu_indices_from(mask)] = True"
   ]
  },
  {
   "cell_type": "code",
   "execution_count": 47,
   "metadata": {},
   "outputs": [
    {
     "data": {
      "text/plain": [
       "<matplotlib.axes._subplots.AxesSubplot at 0x1d3e1bef470>"
      ]
     },
     "execution_count": 47,
     "metadata": {},
     "output_type": "execute_result"
    },
    {
     "data": {
      "image/png": "[encoded data removed]",
      "text/plain": [
       "<Figure size 792x648 with 2 Axes>"
      ]
     },
     "metadata": {
      "needs_background": "light"
     },
     "output_type": "display_data"
    }
   ],
   "source": [
    "# Set up the matplotlib figure\n",
    "f, ax = plt.subplots(figsize=(11, 9))\n",
    "\n",
    "# Generate a custom diverging colormap\n",
    "cmap = sns.diverging_palette(200, 20, as_cmap=True)\n",
    "\n",
    "# Draw the heatmap with the mask and correct aspect ratio\n",
    "sns.heatmap(corr, mask=mask, cmap=cmap, vmax=.3, center=0,\n",
    "            square=True, linewidths=.5, cbar_kws={\"shrink\": .5})"
   ]
  },
  {
   "cell_type": "markdown",
   "metadata": {},
   "source": [
    "## Running an ML pipeline"
   ]
  },
  {
   "cell_type": "code",
   "execution_count": 48,
   "metadata": {},
   "outputs": [
    {
     "data": {
      "text/html": [
       "<div>\n",
       "<style scoped>\n",
       "    .dataframe tbody tr th:only-of-type {\n",
       "        vertical-align: middle;\n",
       "    }\n",
       "\n",
       "    .dataframe tbody tr th {\n",
       "        vertical-align: top;\n",
       "    }\n",
       "\n",
       "    .dataframe thead th {\n",
       "        text-align: right;\n",
       "    }\n",
       "</style>\n",
       "<table border=\"1\" class=\"dataframe\">\n",
       "  <thead>\n",
       "    <tr style=\"text-align: right;\">\n",
       "      <th></th>\n",
       "      <th>Url</th>\n",
       "      <th>Category</th>\n",
       "      <th>Position</th>\n",
       "      <th>Title</th>\n",
       "      <th>Location</th>\n",
       "      <th>Amount_Raised</th>\n",
       "      <th>Goal</th>\n",
       "      <th>Number_of_Donators</th>\n",
       "      <th>Length_of_Fundraising</th>\n",
       "      <th>FB_Shares</th>\n",
       "      <th>GFM_hearts</th>\n",
       "      <th>Text</th>\n",
       "      <th>Latitude</th>\n",
       "      <th>Longitude</th>\n",
       "      <th>FB_Shares_Format</th>\n",
       "      <th>GFM_hearts_Format</th>\n",
       "      <th>GoalAchieved</th>\n",
       "    </tr>\n",
       "  </thead>\n",
       "  <tbody>\n",
       "    <tr>\n",
       "      <th>0</th>\n",
       "      <td>https://www.gofundme.com/3ctqm-medical-bills-f...</td>\n",
       "      <td>Medical</td>\n",
       "      <td>0.0</td>\n",
       "      <td>92 Yr old Man Brutally Attacked.</td>\n",
       "      <td>LOS ANGELES, CA</td>\n",
       "      <td>327345.0</td>\n",
       "      <td>15000.0</td>\n",
       "      <td>12167</td>\n",
       "      <td>30.0</td>\n",
       "      <td>26k</td>\n",
       "      <td>12k</td>\n",
       "      <td>Rodolfo Rodriguez needs your help today! 92 Yr...</td>\n",
       "      <td>34.052234</td>\n",
       "      <td>-118.243685</td>\n",
       "      <td>26000</td>\n",
       "      <td>12000</td>\n",
       "      <td>Yes</td>\n",
       "    </tr>\n",
       "    <tr>\n",
       "      <th>1</th>\n",
       "      <td>https://www.gofundme.com/olivia-stoy-bone-marr...</td>\n",
       "      <td>Medical</td>\n",
       "      <td>0.0</td>\n",
       "      <td>Olivia Stoy:Transplant &amp; Liv it up!</td>\n",
       "      <td>ASHLEY, IN</td>\n",
       "      <td>316261.0</td>\n",
       "      <td>1000000.0</td>\n",
       "      <td>5598</td>\n",
       "      <td>90.0</td>\n",
       "      <td>12k</td>\n",
       "      <td>5.7k</td>\n",
       "      <td>Thomas Stoy needs your help today! Olivia Stoy...</td>\n",
       "      <td>41.527273</td>\n",
       "      <td>-85.065523</td>\n",
       "      <td>12000</td>\n",
       "      <td>5700</td>\n",
       "      <td>No</td>\n",
       "    </tr>\n",
       "    <tr>\n",
       "      <th>2</th>\n",
       "      <td>https://www.gofundme.com/autologous-Tcell-Tran...</td>\n",
       "      <td>Medical</td>\n",
       "      <td>1.0</td>\n",
       "      <td>AUTOLOGOUS T CELL TRANSPLANT</td>\n",
       "      <td>STATEN ISLAND, NY</td>\n",
       "      <td>241125.0</td>\n",
       "      <td>250000.0</td>\n",
       "      <td>841</td>\n",
       "      <td>60.0</td>\n",
       "      <td>1.8k</td>\n",
       "      <td>836</td>\n",
       "      <td>Philip Defonte needs your help today! AUTOLOGO...</td>\n",
       "      <td>40.579532</td>\n",
       "      <td>-74.150201</td>\n",
       "      <td>1800</td>\n",
       "      <td>836</td>\n",
       "      <td>No</td>\n",
       "    </tr>\n",
       "    <tr>\n",
       "      <th>3</th>\n",
       "      <td>https://www.gofundme.com/a-chance-of-rebirth</td>\n",
       "      <td>Medical</td>\n",
       "      <td>1.0</td>\n",
       "      <td>A chance of rebirth</td>\n",
       "      <td>DUBLIN, CA</td>\n",
       "      <td>237424.0</td>\n",
       "      <td>225000.0</td>\n",
       "      <td>4708</td>\n",
       "      <td>30.0</td>\n",
       "      <td>9.7k</td>\n",
       "      <td>4.7k</td>\n",
       "      <td>Sriram Kanniah needs your help today! A chance...</td>\n",
       "      <td>37.702152</td>\n",
       "      <td>-121.935792</td>\n",
       "      <td>9700</td>\n",
       "      <td>4700</td>\n",
       "      <td>Yes</td>\n",
       "    </tr>\n",
       "    <tr>\n",
       "      <th>4</th>\n",
       "      <td>https://www.gofundme.com/teamclaire</td>\n",
       "      <td>Medical</td>\n",
       "      <td>1.0</td>\n",
       "      <td>Claire Wineland Needs Our Help</td>\n",
       "      <td>GARDEN GROVE, CA</td>\n",
       "      <td>236590.0</td>\n",
       "      <td>225000.0</td>\n",
       "      <td>8393</td>\n",
       "      <td>60.0</td>\n",
       "      <td>6.4k</td>\n",
       "      <td>8.9k</td>\n",
       "      <td>Melissa Yeager needs your help today! Claire W...</td>\n",
       "      <td>33.774269</td>\n",
       "      <td>-117.937995</td>\n",
       "      <td>6400</td>\n",
       "      <td>8900</td>\n",
       "      <td>Yes</td>\n",
       "    </tr>\n",
       "  </tbody>\n",
       "</table>\n",
       "</div>"
      ],
      "text/plain": [
       "                                                 Url Category  Position  \\\n",
       "0  https://www.gofundme.com/3ctqm-medical-bills-f...  Medical       0.0   \n",
       "1  https://www.gofundme.com/olivia-stoy-bone-marr...  Medical       0.0   \n",
       "2  https://www.gofundme.com/autologous-Tcell-Tran...  Medical       1.0   \n",
       "3       https://www.gofundme.com/a-chance-of-rebirth  Medical       1.0   \n",
       "4                https://www.gofundme.com/teamclaire  Medical       1.0   \n",
       "\n",
       "                                 Title           Location  Amount_Raised  \\\n",
       "0     92 Yr old Man Brutally Attacked.    LOS ANGELES, CA       327345.0   \n",
       "1  Olivia Stoy:Transplant & Liv it up!         ASHLEY, IN       316261.0   \n",
       "2         AUTOLOGOUS T CELL TRANSPLANT  STATEN ISLAND, NY       241125.0   \n",
       "3                  A chance of rebirth         DUBLIN, CA       237424.0   \n",
       "4       Claire Wineland Needs Our Help   GARDEN GROVE, CA       236590.0   \n",
       "\n",
       "        Goal Number_of_Donators  Length_of_Fundraising FB_Shares GFM_hearts  \\\n",
       "0    15000.0              12167                   30.0       26k        12k   \n",
       "1  1000000.0               5598                   90.0       12k       5.7k   \n",
       "2   250000.0                841                   60.0      1.8k        836   \n",
       "3   225000.0               4708                   30.0      9.7k       4.7k   \n",
       "4   225000.0               8393                   60.0      6.4k       8.9k   \n",
       "\n",
       "                                                Text   Latitude   Longitude  \\\n",
       "0  Rodolfo Rodriguez needs your help today! 92 Yr...  34.052234 -118.243685   \n",
       "1  Thomas Stoy needs your help today! Olivia Stoy...  41.527273  -85.065523   \n",
       "2  Philip Defonte needs your help today! AUTOLOGO...  40.579532  -74.150201   \n",
       "3  Sriram Kanniah needs your help today! A chance...  37.702152 -121.935792   \n",
       "4  Melissa Yeager needs your help today! Claire W...  33.774269 -117.937995   \n",
       "\n",
       "   FB_Shares_Format  GFM_hearts_Format GoalAchieved  \n",
       "0             26000              12000          Yes  \n",
       "1             12000               5700           No  \n",
       "2              1800                836           No  \n",
       "3              9700               4700          Yes  \n",
       "4              6400               8900          Yes  "
      ]
     },
     "execution_count": 48,
     "metadata": {},
     "output_type": "execute_result"
    }
   ],
   "source": [
    "gfm_data = gfm_data.dropna()\n",
    "gfm_data.head()"
   ]
  },
  {
   "cell_type": "code",
   "execution_count": 49,
   "metadata": {},
   "outputs": [
    {
     "name": "stdout",
     "output_type": "stream",
     "text": [
      "X_train  (829, 3) \n",
      " X_test  (356, 3) \n",
      " y_train  (829,) \n",
      " y_test (356,)\n"
     ]
    }
   ],
   "source": [
    "# Train-test split, using type variable as target and posts variable as predictor\n",
    "X_train, X_test, y_train, y_test = train_test_split(gfm_data[['FB_Shares_Format', 'GFM_hearts_Format', 'Length_of_Fundraising']].values,\n",
    "                                                   gfm_data['GoalAchieved'].values,\n",
    "                                                   test_size=0.30, random_state=42)\n",
    "print('X_train ', X_train.shape, '\\n', 'X_test ', X_test.shape, '\\n', 'y_train ', y_train.shape, '\\n', \n",
    "      'y_test', y_test.shape)\n"
   ]
  },
  {
   "cell_type": "markdown",
   "metadata": {},
   "source": [
    "### Thus, we see that we have 869 rows in our training data, and 373 rows in our test set"
   ]
  },
  {
   "cell_type": "markdown",
   "metadata": {},
   "source": [
    "## Linear Regression"
   ]
  },
  {
   "cell_type": "code",
   "execution_count": 69,
   "metadata": {},
   "outputs": [
    {
     "name": "stderr",
     "output_type": "stream",
     "text": [
      "C:\\Anaconda3\\lib\\site-packages\\sklearn\\linear_model\\logistic.py:433: FutureWarning: Default solver will be changed to 'lbfgs' in 0.22. Specify a solver to silence this warning.\n",
      "  FutureWarning)\n"
     ]
    },
    {
     "data": {
      "text/plain": [
       "LogisticRegression(C=1.0, class_weight=None, dual=False, fit_intercept=True,\n",
       "          intercept_scaling=1, max_iter=100, multi_class='warn',\n",
       "          n_jobs=None, penalty='l2', random_state=None, solver='warn',\n",
       "          tol=0.0001, verbose=0, warm_start=False)"
      ]
     },
     "execution_count": 69,
     "metadata": {},
     "output_type": "execute_result"
    }
   ],
   "source": [
    "from sklearn.linear_model import LogisticRegression\n",
    "logisticRegr = LogisticRegression()\n",
    "logisticRegr.fit(X_train, y_train)\n"
   ]
  },
  {
   "cell_type": "code",
   "execution_count": 72,
   "metadata": {},
   "outputs": [],
   "source": [
    "logisticRegr.predict(X_test)\n",
    "predictions = logisticRegr.predict(X_test)\n"
   ]
  },
  {
   "cell_type": "code",
   "execution_count": 73,
   "metadata": {},
   "outputs": [
    {
     "name": "stdout",
     "output_type": "stream",
     "text": [
      "0.6685393258426966\n"
     ]
    }
   ],
   "source": [
    "# Use score method to get accuracy of model\n",
    "score = logisticRegr.score(X_test, y_test)\n",
    "print(score)"
   ]
  },
  {
   "cell_type": "code",
   "execution_count": 75,
   "metadata": {},
   "outputs": [
    {
     "name": "stdout",
     "output_type": "stream",
     "text": [
      "[[237   1]\n",
      " [117   1]]\n"
     ]
    },
    {
     "data": {
      "image/png": "[encoded data removed]",
      "text/plain": [
       "<Figure size 648x648 with 2 Axes>"
      ]
     },
     "metadata": {
      "needs_background": "light"
     },
     "output_type": "display_data"
    }
   ],
   "source": [
    "cm = metrics.confusion_matrix(y_test, predictions)\n",
    "print(cm)\n",
    "plt.figure(figsize=(9,9))\n",
    "sns.heatmap(cm, annot=True, fmt=\".3f\", linewidths=.5, square = True, cmap = 'Blues_r');\n",
    "plt.ylabel('Actual label');\n",
    "plt.xlabel('Predicted label');\n",
    "all_sample_title = 'Accuracy Score: {0}'.format(score)\n",
    "plt.title(all_sample_title, size = 15);"
   ]
  },
  {
   "cell_type": "code",
   "execution_count": null,
   "metadata": {},
   "outputs": [],
   "source": []
  },
  {
   "cell_type": "code",
   "execution_count": null,
   "metadata": {},
   "outputs": [],
   "source": []
  },
  {
   "cell_type": "code",
   "execution_count": null,
   "metadata": {},
   "outputs": [],
   "source": []
  },
  {
   "cell_type": "markdown",
   "metadata": {},
   "source": [
    "### Model: Random Forest Classifier\n",
    "RandomForestClassifier is a meta estimator that fits a number of decision tree classifiers on various sub-samples of the dataset and use averaging to improve the predictive accuracy and control over-fitting."
   ]
  },
  {
   "cell_type": "code",
   "execution_count": 50,
   "metadata": {},
   "outputs": [
    {
     "name": "stdout",
     "output_type": "stream",
     "text": [
      "TRAINING SET\n",
      "Accuracy:  0.9987937273823885\n",
      "Confusion Matrix:\n",
      "[[512   0]\n",
      " [  1 316]]\n",
      "Classification Report:\n",
      "              precision    recall  f1-score   support\n",
      "\n",
      "          No       1.00      1.00      1.00       512\n",
      "         Yes       1.00      1.00      1.00       317\n",
      "\n",
      "   micro avg       1.00      1.00      1.00       829\n",
      "   macro avg       1.00      1.00      1.00       829\n",
      "weighted avg       1.00      1.00      1.00       829\n",
      "\n",
      "\n"
     ]
    }
   ],
   "source": [
    "rfc = RandomForestClassifier(n_estimators=30)\n",
    "#                              , min_samples_leaf=50, oob_score=True, n_jobs= -1, random_state=123)\n",
    "rfc.fit(X_train, y_train)\n",
    "print(\"TRAINING SET\")\n",
    "print(\"Accuracy: \", rfc.score(X_train, y_train))\n",
    "print(\"Confusion Matrix:\")\n",
    "print(confusion_matrix(y_train, rfc.predict(X_train)))\n",
    "print(\"Classification Report:\")\n",
    "print(classification_report(y_train, rfc.predict(X_train)))\n",
    "print(\"\")"
   ]
  },
  {
   "cell_type": "code",
   "execution_count": 51,
   "metadata": {},
   "outputs": [
    {
     "name": "stdout",
     "output_type": "stream",
     "text": [
      "TEST SET\n",
      "Accuracy:  0.5674157303370787\n",
      "Confusion Matrix:\n",
      "[[165  73]\n",
      " [ 81  37]]\n",
      "Classification Report:\n",
      "              precision    recall  f1-score   support\n",
      "\n",
      "          No       0.67      0.69      0.68       238\n",
      "         Yes       0.34      0.31      0.32       118\n",
      "\n",
      "   micro avg       0.57      0.57      0.57       356\n",
      "   macro avg       0.50      0.50      0.50       356\n",
      "weighted avg       0.56      0.57      0.56       356\n",
      "\n"
     ]
    }
   ],
   "source": [
    "print(\"TEST SET\")\n",
    "print(\"Accuracy: \", rfc.score(X_test, y_test))\n",
    "print(\"Confusion Matrix:\")\n",
    "print(confusion_matrix(y_test, rfc.predict(X_test)))\n",
    "print(\"Classification Report:\")\n",
    "print(classification_report(y_test, rfc.predict(X_test)))"
   ]
  },
  {
   "cell_type": "markdown",
   "metadata": {},
   "source": [
    "### Thus, we see that the Random Forest Classifier overfits the training data. So while we have an accuracy of 99% for the training data, the accuracy on test data is only 56%. We can resolve this by using cross validation in our ML pipeline"
   ]
  },
  {
   "cell_type": "code",
   "execution_count": 52,
   "metadata": {},
   "outputs": [],
   "source": [
    "# Define the Parameter Grid\n",
    "\n",
    "param_grid = {\n",
    "                 'n_estimators': [5, 10, 20, 50],\n",
    "                 'max_depth': [2, 5, 7, 9]\n",
    "             }"
   ]
  },
  {
   "cell_type": "code",
   "execution_count": 53,
   "metadata": {},
   "outputs": [
    {
     "data": {
      "text/plain": [
       "GridSearchCV(cv=10, error_score='raise-deprecating',\n",
       "       estimator=RandomForestClassifier(bootstrap=True, class_weight=None, criterion='gini',\n",
       "            max_depth=None, max_features='auto', max_leaf_nodes=None,\n",
       "            min_impurity_decrease=0.0, min_impurity_split=None,\n",
       "            min_samples_leaf=1, min_samples_split=2,\n",
       "            min_weight_fraction_leaf=0.0, n_estimators=30, n_jobs=None,\n",
       "            oob_score=False, random_state=None, verbose=0,\n",
       "            warm_start=False),\n",
       "       fit_params=None, iid='warn', n_jobs=None,\n",
       "       param_grid={'n_estimators': [5, 10, 20, 50], 'max_depth': [2, 5, 7, 9]},\n",
       "       pre_dispatch='2*n_jobs', refit=True, return_train_score='warn',\n",
       "       scoring=None, verbose=0)"
      ]
     },
     "execution_count": 53,
     "metadata": {},
     "output_type": "execute_result"
    }
   ],
   "source": [
    "# Define the GridSearchCV for the Random Forest Classifer\n",
    "grid_rfc = GridSearchCV(rfc, param_grid, cv=10)\n",
    "grid_rfc.fit(X_train, y_train)"
   ]
  },
  {
   "cell_type": "code",
   "execution_count": 54,
   "metadata": {},
   "outputs": [
    {
     "name": "stdout",
     "output_type": "stream",
     "text": [
      "##########   Best Classfier:    ############\n"
     ]
    },
    {
     "data": {
      "text/plain": [
       "{'max_depth': 5, 'n_estimators': 20}"
      ]
     },
     "execution_count": 54,
     "metadata": {},
     "output_type": "execute_result"
    }
   ],
   "source": [
    "print('##########   Best Classfier:    ############') \n",
    "grid_rfc. best_estimator_\n",
    "\n",
    "grid_rfc. best_params_\n",
    "\n"
   ]
  },
  {
   "cell_type": "code",
   "execution_count": 55,
   "metadata": {},
   "outputs": [
    {
     "data": {
      "text/plain": [
       "0.6248492159227985"
      ]
     },
     "execution_count": 55,
     "metadata": {},
     "output_type": "execute_result"
    }
   ],
   "source": [
    "grid_rfc.best_score_"
   ]
  },
  {
   "cell_type": "markdown",
   "metadata": {},
   "source": [
    "## Thus, we see that there is a slight improvement of the accuracy to 63% by using cross validation"
   ]
  },
  {
   "cell_type": "code",
   "execution_count": 56,
   "metadata": {},
   "outputs": [],
   "source": [
    "# Convert the confusion Matric to a dataframe to display a heatmap\n",
    "knn_confMat = np.array(confusion_matrix(y_test, grid_rfc.predict(X_test)))\n",
    "confMat_knn = pd.DataFrame(knn_confMat, index=['Actual Yes', 'Actual No'],\n",
    "                          columns=['Predicted Yes', 'Predicted No'])"
   ]
  },
  {
   "cell_type": "code",
   "execution_count": 57,
   "metadata": {},
   "outputs": [
    {
     "data": {
      "image/png": "[encoded data removed]",
      "text/plain": [
       "<Figure size 360x360 with 2 Axes>"
      ]
     },
     "metadata": {
      "needs_background": "light"
     },
     "output_type": "display_data"
    }
   ],
   "source": [
    "# Plot the confusion matrix as a heatmap\n",
    "import seaborn as sns\n",
    "fig, ax = plt.subplots(figsize=(5,5))\n",
    "plt.title('Confusion Matrix for KNN Classifier', fontweight = 'bold',\n",
    "         y = 1.02, fontsize=14)\n",
    "\n",
    "sns.heatmap(confMat_knn, robust=True, annot=True, linewidth=0.5, \n",
    "            fmt='', cmap='RdBu', vmax=303, ax=ax)\n",
    "plt.xticks(fontsize=12)\n",
    "plt.yticks(rotation=0, fontsize=12);"
   ]
  },
  {
   "cell_type": "markdown",
   "metadata": {},
   "source": [
    "## Model : KNeighbors Classifier Model\n",
    "\n",
    "KNeighborsClassifier is a nonparametric classification model that finds the observations in its training data that are \"nearest\" to the observation to predict; it then averages or takes a vote of those training observations' target values to estimate the value for the new data point."
   ]
  },
  {
   "cell_type": "code",
   "execution_count": 58,
   "metadata": {},
   "outputs": [
    {
     "data": {
      "image/png": "[encoded data removed]",
      "text/plain": [
       "<Figure size 720x288 with 1 Axes>"
      ]
     },
     "metadata": {
      "needs_background": "light"
     },
     "output_type": "display_data"
    }
   ],
   "source": [
    "# Run the kNN classifier and find the optimal number of neighbors to use\n",
    "\n",
    "error_rate = []\n",
    "\n",
    "for i in range(3,14):\n",
    "    knn_lc = KNeighborsClassifier(n_neighbors=i)\n",
    "    knn_lc.fit(X_train, y_train)\n",
    "    \n",
    "    pred_i = knn_lc.predict(X_test)\n",
    "    error_rate.append(np.mean(pred_i != y_test))\n",
    "    \n",
    "plt.figure(figsize=(10, 4))\n",
    "plt.plot(range(3,14), error_rate, color='red', linestyle='dashed',\n",
    "         marker='o', markerfacecolor='black', markersize=10)\n",
    "plt.title('Error Rate vs. K Value', fontsize=16,\n",
    "          fontweight='bold', y=1.02)\n",
    "plt.xlabel('K', fontsize=12, y=1.02)\n",
    "plt.ylabel('Error Rate', fontsize=12, x=1.02);"
   ]
  },
  {
   "cell_type": "markdown",
   "metadata": {},
   "source": [
    "### Thus, we find that the error rate is lowest for 6 neighbors. \n",
    "\n",
    "### Let us recheck this fact by running a GridSearch on the classifier as well"
   ]
  },
  {
   "cell_type": "code",
   "execution_count": 60,
   "metadata": {},
   "outputs": [],
   "source": [
    "# Grid Search to find the best parameters on KNeighbors Classifier\n",
    "knn_param_dict = {\n",
    "    'n_neighbors': [4, 6, 7, 8, 9,10,13],\n",
    "    'weights': ['uniform', 'distance'],\n",
    "    'p': [1,2],}\n",
    "        # p = power parameter for the Minkowski metric. \n",
    "        # 1 is Manhattan; 2 is Euclidean"
   ]
  },
  {
   "cell_type": "code",
   "execution_count": 61,
   "metadata": {},
   "outputs": [
    {
     "name": "stderr",
     "output_type": "stream",
     "text": [
      "C:\\Anaconda3\\lib\\site-packages\\sklearn\\model_selection\\_split.py:2053: FutureWarning: You should specify a value for 'cv' instead of relying on the default value. The default value will change from 3 to 5 in version 0.22.\n",
      "  warnings.warn(CV_WARNING, FutureWarning)\n",
      "[Parallel(n_jobs=-1)]: Using backend LokyBackend with 8 concurrent workers.\n"
     ]
    },
    {
     "name": "stdout",
     "output_type": "stream",
     "text": [
      "Fitting 3 folds for each of 28 candidates, totalling 84 fits\n"
     ]
    },
    {
     "name": "stderr",
     "output_type": "stream",
     "text": [
      "[Parallel(n_jobs=-1)]: Done  25 tasks      | elapsed:    2.2s\n",
      "[Parallel(n_jobs=-1)]: Done  84 out of  84 | elapsed:    2.4s finished\n"
     ]
    },
    {
     "data": {
      "text/plain": [
       "GridSearchCV(cv='warn', error_score='raise-deprecating',\n",
       "       estimator=KNeighborsClassifier(algorithm='auto', leaf_size=30, metric='minkowski',\n",
       "           metric_params=None, n_jobs=None, n_neighbors=5, p=2,\n",
       "           weights='uniform'),\n",
       "       fit_params=None, iid='warn', n_jobs=-1,\n",
       "       param_grid={'n_neighbors': [4, 6, 7, 8, 9, 10, 13], 'weights': ['uniform', 'distance'], 'p': [1, 2]},\n",
       "       pre_dispatch='2*n_jobs', refit=True, return_train_score='warn',\n",
       "       scoring='accuracy', verbose=2)"
      ]
     },
     "execution_count": 61,
     "metadata": {},
     "output_type": "execute_result"
    }
   ],
   "source": [
    "\n",
    "knn = KNeighborsClassifier()\n",
    "gs_knn = GridSearchCV(knn, knn_param_dict, verbose=2, n_jobs=-1, scoring=\"accuracy\")\n",
    "# if n_jobs = -1, then the number of jobs is set to the number of CPU cores.\n",
    "gs_knn.fit(X_train, y_train)"
   ]
  },
  {
   "cell_type": "code",
   "execution_count": 62,
   "metadata": {},
   "outputs": [
    {
     "name": "stdout",
     "output_type": "stream",
     "text": [
      "Best score:  0.6103739445114595\n",
      "Best parameters:  {'n_neighbors': 8, 'p': 2, 'weights': 'uniform'}\n"
     ]
    }
   ],
   "source": [
    "\n",
    "print('Best score: ', gs_knn.best_score_)\n",
    "print('Best parameters: ', gs_knn.best_params_)"
   ]
  },
  {
   "cell_type": "markdown",
   "metadata": {},
   "source": [
    "The grid search suggests that the optimal number of neighbors is 8. The optimal weight function is 'uniform,' where points are all assigned weights uniformly. These hyperparameters will be used in the KNeighborsClassifier model. The optimal power parameter (p) for the Minkowski metric is 1, indicating Manhattan distance. This is the default parameter for this model so no adjustments are needed on that hyperparameter."
   ]
  },
  {
   "cell_type": "code",
   "execution_count": 63,
   "metadata": {},
   "outputs": [
    {
     "name": "stdout",
     "output_type": "stream",
     "text": [
      "TRAINING SET\n",
      "Accuracy:  0.6586248492159228\n",
      "Confusion Matrix:\n",
      "[[460  52]\n",
      " [231  86]]\n",
      "Classification Report:\n",
      "              precision    recall  f1-score   support\n",
      "\n",
      "          No       0.67      0.90      0.76       512\n",
      "         Yes       0.62      0.27      0.38       317\n",
      "\n",
      "   micro avg       0.66      0.66      0.66       829\n",
      "   macro avg       0.64      0.58      0.57       829\n",
      "weighted avg       0.65      0.66      0.62       829\n",
      "\n",
      "\n"
     ]
    }
   ],
   "source": [
    "# Fit and score a KNeighborsClassifier using 13 neighbors and distance weighting function\n",
    "knn = KNeighborsClassifier(n_neighbors=8, weights='uniform')\n",
    "knn.fit(X_train, y_train)\n",
    "print(\"TRAINING SET\")\n",
    "print(\"Accuracy: \", knn.score(X_train, y_train))\n",
    "print(\"Confusion Matrix:\")\n",
    "print(confusion_matrix(y_train, knn.predict(X_train)))\n",
    "print(\"Classification Report:\")\n",
    "print(classification_report(y_train, knn.predict(X_train)))\n",
    "print(\"\")\n"
   ]
  },
  {
   "cell_type": "code",
   "execution_count": 64,
   "metadata": {},
   "outputs": [
    {
     "name": "stdout",
     "output_type": "stream",
     "text": [
      "TEST SET\n",
      "Accuracy:  0.598314606741573\n",
      "Confusion Matrix:\n",
      "[[189  49]\n",
      " [ 94  24]]\n",
      "Classification Report:\n",
      "              precision    recall  f1-score   support\n",
      "\n",
      "          No       0.67      0.79      0.73       238\n",
      "         Yes       0.33      0.20      0.25       118\n",
      "\n",
      "   micro avg       0.60      0.60      0.60       356\n",
      "   macro avg       0.50      0.50      0.49       356\n",
      "weighted avg       0.56      0.60      0.57       356\n",
      "\n"
     ]
    }
   ],
   "source": [
    "\n",
    "print(\"TEST SET\")\n",
    "print(\"Accuracy: \", knn.score(X_test, y_test))\n",
    "print(\"Confusion Matrix:\")\n",
    "print(confusion_matrix(y_test, knn.predict(X_test)))\n",
    "print(\"Classification Report:\")\n",
    "print(classification_report(y_test, knn.predict(X_test)))"
   ]
  },
  {
   "cell_type": "code",
   "execution_count": 65,
   "metadata": {},
   "outputs": [],
   "source": [
    "# Convert the confusion Matric to a dataframe to display a heatmap\n",
    "knn_confMat = np.array(confusion_matrix(y_test, knn.predict(X_test)))\n",
    "confMat_knn = pd.DataFrame(knn_confMat, index=['Actual Yes', 'Actual No'],\n",
    "                          columns=['Predicted Yes', 'Predicted No'])"
   ]
  },
  {
   "cell_type": "code",
   "execution_count": 66,
   "metadata": {},
   "outputs": [
    {
     "data": {
      "text/html": [
       "<div>\n",
       "<style scoped>\n",
       "    .dataframe tbody tr th:only-of-type {\n",
       "        vertical-align: middle;\n",
       "    }\n",
       "\n",
       "    .dataframe tbody tr th {\n",
       "        vertical-align: top;\n",
       "    }\n",
       "\n",
       "    .dataframe thead th {\n",
       "        text-align: right;\n",
       "    }\n",
       "</style>\n",
       "<table border=\"1\" class=\"dataframe\">\n",
       "  <thead>\n",
       "    <tr style=\"text-align: right;\">\n",
       "      <th></th>\n",
       "      <th>Predicted Yes</th>\n",
       "      <th>Predicted No</th>\n",
       "    </tr>\n",
       "  </thead>\n",
       "  <tbody>\n",
       "    <tr>\n",
       "      <th>Actual Yes</th>\n",
       "      <td>189</td>\n",
       "      <td>49</td>\n",
       "    </tr>\n",
       "    <tr>\n",
       "      <th>Actual No</th>\n",
       "      <td>94</td>\n",
       "      <td>24</td>\n",
       "    </tr>\n",
       "  </tbody>\n",
       "</table>\n",
       "</div>"
      ],
      "text/plain": [
       "            Predicted Yes  Predicted No\n",
       "Actual Yes            189            49\n",
       "Actual No              94            24"
      ]
     },
     "execution_count": 66,
     "metadata": {},
     "output_type": "execute_result"
    }
   ],
   "source": [
    "confMat_knn"
   ]
  },
  {
   "cell_type": "code",
   "execution_count": 67,
   "metadata": {},
   "outputs": [
    {
     "data": {
      "image/png": "[encoded data removed]",
      "text/plain": [
       "<Figure size 360x360 with 2 Axes>"
      ]
     },
     "metadata": {
      "needs_background": "light"
     },
     "output_type": "display_data"
    }
   ],
   "source": [
    "# Plot the confusion matrix as a heatmap\n",
    "import seaborn as sns\n",
    "fig, ax = plt.subplots(figsize=(5,5))\n",
    "plt.title('Confusion Matrix for KNN Classifier', fontweight = 'bold',\n",
    "         y = 1.02, fontsize=14)\n",
    "\n",
    "sns.heatmap(confMat_knn, robust=True, annot=True, linewidth=0.5, \n",
    "            fmt='', cmap='RdBu', vmax=303, ax=ax)\n",
    "plt.xticks(fontsize=12)\n",
    "plt.yticks(rotation=0, fontsize=12);"
   ]
  },
  {
   "cell_type": "code",
   "execution_count": null,
   "metadata": {},
   "outputs": [],
   "source": []
  },
  {
   "cell_type": "code",
   "execution_count": null,
   "metadata": {},
   "outputs": [],
   "source": []
  }
 ],
 "metadata": {
  "kernelspec": {
   "display_name": "Python 3",
   "language": "python",
   "name": "python3"
  },
  "language_info": {
   "codemirror_mode": {
    "name": "ipython",
    "version": 3
   },
   "file_extension": ".py",
   "mimetype": "text/x-python",
   "name": "python",
   "nbconvert_exporter": "python",
   "pygments_lexer": "ipython3",
   "version": "3.7.0"
  }
 },
 "nbformat": 4,
 "nbformat_minor": 2
}
